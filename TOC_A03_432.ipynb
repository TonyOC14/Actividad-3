{
  "nbformat": 4,
  "nbformat_minor": 0,
  "metadata": {
    "colab": {
      "provenance": [],
      "authorship_tag": "ABX9TyPSKL47t2V3xicj8sFC+cD6",
      "include_colab_link": true
    },
    "kernelspec": {
      "name": "python3",
      "display_name": "Python 3"
    },
    "language_info": {
      "name": "python"
    }
  },
  "cells": [
    {
      "cell_type": "markdown",
      "metadata": {
        "id": "view-in-github",
        "colab_type": "text"
      },
      "source": [
        "<a href=\"https://colab.research.google.com/github/TonyOC14/Actividad-3/blob/main/TOC_A03_432.ipynb\" target=\"_parent\"><img src=\"https://colab.research.google.com/assets/colab-badge.svg\" alt=\"Open In Colab\"/></a>"
      ]
    },
    {
      "cell_type": "markdown",
      "source": [
        "1.- Algoritmo que lea 3 calificaciones calcule el promedio del alumno y desplegar:\n",
        "\n",
        "Si prom < 30 Repetir\n",
        "\n",
        "Si prom >=30 y prom <60 extraordinario\n",
        "\n",
        "Si prom >=60 y prom <70 suficiente\n",
        "\n",
        "Si prom >=70 y prom <80 Regular\n",
        "\n",
        "Si prom >=80 y prom <90 bien\n",
        "\n",
        "Si prom >=90 y prom <98 muy bien\n",
        "\n",
        "Si prom >=98 y prom <=100 excelente\n",
        "\n",
        "Si prom >100 Error en promedio"
      ],
      "metadata": {
        "id": "l5h1NBcqEVt0"
      }
    },
    {
      "cell_type": "code",
      "source": [
        "cal1=float(input(\"Ingrese la primera calificacion \"))\n",
        "cal2=float(input(\"Ingrese la segunda calificacion \"))\n",
        "cal3=float(input(\"Ingrese la tercera calificacion \"))\n",
        "prom= (cal1+cal2+cal3) / 3\n",
        "\n",
        "if prom < 30 :\n",
        "  print (f\"Tu promedio es de {prom}, debes repetir \")\n",
        "elif prom < 60 :\n",
        "  print (f\"Tu promedio es de {prom}, tienes derecho a extraordinario \")\n",
        "elif prom < 70 :\n",
        "  print (f\"Tu promedio es de {prom}, suficiente \")\n",
        "elif prom < 80 :\n",
        "  print (f\"Tu promedio es de {prom}, regular \")\n",
        "elif prom < 90 :\n",
        "  print (f\"Tu promedio es de {prom}, bien \")\n",
        "elif prom < 98 :\n",
        "  print (f\"Tu promedio es de {prom}, muy bien \")\n",
        "elif prom < 100 :\n",
        "  print (f\"Tu promedio es de {prom}, excelente \")\n",
        "else :\n",
        "  print (\"Error en promedio \")\n",
        "\n"
      ],
      "metadata": {
        "colab": {
          "base_uri": "https://localhost:8080/"
        },
        "id": "f_LZzrPsEYz0",
        "outputId": "ac0758a6-ae01-43a5-d6d3-be5abde5ee9a"
      },
      "execution_count": null,
      "outputs": [
        {
          "output_type": "stream",
          "name": "stdout",
          "text": [
            "Ingrese la primera calificacion 100\n",
            "Ingrese la segunda calificacion 80\n",
            "Ingrese la tercera calificacion 70\n",
            "Tu promedio es de 83.33333333333333, bien \n"
          ]
        }
      ]
    },
    {
      "cell_type": "markdown",
      "source": [
        "2.- Algoritmo que sirva para calcular el salario semanal de un trabajador donde se obtiene como dato de entrada las horas semanales trabajadas, el salario por hora.\n",
        "\n",
        "El programa deberá calcular el salario normal, salario extra y salario total, considerando lo siguiente:\n",
        "\n",
        "Jornada Normal de 40 horas.\n",
        "El salario normal se considera las horas trabajadas menores o igual a la jornada normal\n",
        "Salario extra se considera las horas trabajadas mayores a la jornada normal y se pagan dobles las primeras 9 y triples a partir de la décima hora extra\n",
        "\n",
        "\n",
        "Nota: Desplegar todos los datos (Salario x hora, Horas Trabajadas, Salario normal, Salario extra y Salario Total)\n",
        "\n"
      ],
      "metadata": {
        "id": "Kq21dPdJIocA"
      }
    },
    {
      "cell_type": "code",
      "source": [
        "horas=int(input(\"¿Cuantas horas trabajaste en la semana? \"))\n",
        "salario=float(input(\"¿Cuanto es tu salario por hora? \"))\n",
        "salario_normal= salario * 40\n",
        "if horas <= 40 :\n",
        "  print (f\"Tu salario por hora es de {salario}, trabajaste {horas}, por lo tanto tu salario normal y total es de {salario * horas} \")\n",
        "elif horas <= 49 :\n",
        "  salario_extra1= (horas - 40) * (salario * 2)\n",
        "  print (f\"Tu salario por hora es de {salario}, trabajaste {horas}, por lo tanto tu salario normal es de {salario_normal}, tu salario extra es de {salario_extra1} y tu salario total es de {salario_normal + salario_extra1} \")\n",
        "else :\n",
        "  salario_extra1= (9) * (salario * 2)\n",
        "  salario_extra2= (horas - 49) * (salario * 3)\n",
        "  salario_extra_total= salario_extra1 + salario_extra2\n",
        "  print (f\"Tu salario por hora es de {salario}, trabajaste {horas}, por lo tanto tu salario normal es de {salario_normal}, tu salario extra es de {salario_extra_total} y tu salario total es de {salario_normal + salario_extra_total} \")"
      ],
      "metadata": {
        "colab": {
          "base_uri": "https://localhost:8080/"
        },
        "id": "Tv4LnjBpItC3",
        "outputId": "b43e880e-e39b-40f2-8e01-802ab43841f9"
      },
      "execution_count": null,
      "outputs": [
        {
          "output_type": "stream",
          "name": "stdout",
          "text": [
            "¿Cuantas horas trabajaste en la semana? 50\n",
            "¿Cuanto es tu salario por hora? 30\n",
            "Tu salario por hora es de 30.0, trabajaste 50, por lo tanto tu salario normal es de 1200.0, tu salario extra es de 630.0 y tu salario total es de 1830.0 \n"
          ]
        }
      ]
    },
    {
      "cell_type": "markdown",
      "source": [
        "3.- Algoritmo que sirva para desplegar el Total de una llamada telefónica donde se pide como datos de entrada los minutos y el tipo de llamada, se cobra de la siguiente manera:\n",
        "\n",
        "1.- Llamada Local $3.00 sin límite de tiempo\n",
        "\n",
        "2.- Llamada Nacional $7.00 por los 3 primeros minutos y $2.00 minuto adicional\n",
        "\n",
        "3.- Llamada Internacional $9.00 por los 2 primeros minutos y $4.00 minuto adicional\n",
        "\n",
        " Desplegar, Subtotal,Iva (16%) y Total."
      ],
      "metadata": {
        "id": "k6kJi2cgPlxv"
      }
    },
    {
      "cell_type": "code",
      "source": [
        "llamada=int(input(\"Para llamada local ingrese 1 \\nPara llamada internacional ingrese 2 \\nPara llamada internacional ingrese 3 \\n\"))\n",
        "minutos=int(input(\"¿Cuantos minutos duro la llamada?\" ))\n",
        "if llamada == 1 :\n",
        "  print (f\"Subtotal: {3 / 1.16} pesos\")\n",
        "  print (f\"Iva: {(3 / 1.16) * .16} pesos\")\n",
        "  print (f\"Total : 3 pesos\")\n",
        "elif llamada == 2 :\n",
        "  min_extra=int(minutos-3)\n",
        "  cobro=int(7 + (min_extra * 2))\n",
        "  subt=float(cobro / 1.16)\n",
        "  iva=float(subt * .16)\n",
        "  total=float(subt + iva)\n",
        "  print (f\"Subtotal: {subt}\")\n",
        "  print (f\"Iva: {iva}\")\n",
        "  print (f\"Total: {total}\")\n",
        "elif llamada == 3 :\n",
        "  min_extra=int(minutos-2)\n",
        "  cobro=int(9 + (min_extra * 4))\n",
        "  subt=float(cobro / 1.16)\n",
        "  iva=float(subt * .16)\n",
        "  total=float(subt + iva)\n",
        "  print (f\"Subtotal: {subt}\")\n",
        "  print (f\"Iva: {iva}\")\n",
        "  print (f\"Total: {total}\")\n",
        "else :\n",
        "  print (\"Error, elija un numero de las dados\")\n",
        "\n"
      ],
      "metadata": {
        "id": "ne9redNfPoBG",
        "colab": {
          "base_uri": "https://localhost:8080/"
        },
        "outputId": "be0f4ae0-2aab-42df-df44-abcc5a19414d"
      },
      "execution_count": null,
      "outputs": [
        {
          "output_type": "stream",
          "name": "stdout",
          "text": [
            "Para llamada local ingrese 1 \n",
            "Para llamada internacional ingrese 2 \n",
            "Para llamada internacional ingrese 3 \n",
            "3\n",
            "¿Cuantos minutos duro la llamada?10\n",
            "Subtotal: 35.3448275862069\n",
            "Iva: 5.655172413793103\n",
            "Total: 41.0\n"
          ]
        }
      ]
    },
    {
      "cell_type": "markdown",
      "source": [
        "4.- Algoritmo que sirva para calcular el Total a pagar por consumo de agua, donde el dato de entrada son los M3 de agua consumidos, Tomar en cuenta que se cobra escalonada de la Siguiente manera:\n",
        "\n",
        "Rango1: 0 al 4 M3 $50 x facturación sin importar cuánto consumió en este rango\n",
        "\n",
        "Rango2: 5 a 15 M3 $8.00 x M3\n",
        "\n",
        "Rango3: 16 a 50 M3 $10.00 x M3\n",
        "\n",
        "Rango4: 51 M3 en adelante $11.00 x M3\n",
        "\n",
        "Nota: Desplegar SubTotal, Iva(16%), y Total a pagar."
      ],
      "metadata": {
        "id": "rUABKYLg1pqH"
      }
    },
    {
      "cell_type": "code",
      "source": [
        "consumo=int(input(\"Cuantos metros cubicos de agua consumio? \"))\n",
        "if consumo <= 4 :\n",
        "  print (f\"Subtotal: {50 / 1.16} pesos\")\n",
        "  print (f\"Iva: {(50 / 1.16) * .16} pesos\")\n",
        "  print (f\"Total : 50 pesos\")\n",
        "elif consumo <= 15 :\n",
        "  cobro=int(consumo * 8 )\n",
        "  subt=float(cobro / 1.16)\n",
        "  iva=float(subt * .16)\n",
        "  total=float(subt + iva)\n",
        "  print (f\"Subtotal: {subt}\")\n",
        "  print (f\"Iva: {iva}\")\n",
        "  print (f\"Total: {total}\")\n",
        "elif consumo <= 50 :\n",
        "  cobro=int(consumo * 10 )\n",
        "  subt=float(cobro / 1.16)\n",
        "  iva=float(subt * .16)\n",
        "  total=float(subt + iva)\n",
        "  print (f\"Subtotal: {subt}\")\n",
        "  print (f\"Iva: {iva}\")\n",
        "  print (f\"Total: {total}\")\n",
        "else :\n",
        "  cobro=int(consumo * 11 )\n",
        "  subt=float(cobro / 1.16)\n",
        "  iva=float(subt * .16)\n",
        "  total=float(subt + iva)\n",
        "  print (f\"Subtotal: {subt}\")\n",
        "  print (f\"Iva: {iva}\")\n",
        "  print (f\"Total: {total}\")"
      ],
      "metadata": {
        "colab": {
          "base_uri": "https://localhost:8080/"
        },
        "id": "Qp0MWrfA1s47",
        "outputId": "53b54e68-1d9c-4c0d-c7cf-fba706b37548"
      },
      "execution_count": null,
      "outputs": [
        {
          "output_type": "stream",
          "name": "stdout",
          "text": [
            "Cuantos metros cubicos de agua consumio? 51\n",
            "Subtotal: 483.62068965517244\n",
            "Iva: 77.37931034482759\n",
            "Total: 561.0\n"
          ]
        }
      ]
    },
    {
      "cell_type": "markdown",
      "source": [
        "5- En la materia de Metodología de la programación se aplican 5 exámenes, calcular el promedio final de la materia donde la calificación menor de los exámenes se anula y el promedio se calcula en base a 4 exámenes.\n",
        "\n",
        "Desplegar el promedio final."
      ],
      "metadata": {
        "id": "lS7ga5oV5T8h"
      }
    },
    {
      "cell_type": "code",
      "source": [
        "exam1=int(input(\"Ingrese la calificacion del primer examen \"))\n",
        "exam2=int(input(\"Ingrese la calificacion del segundo examen \"))\n",
        "exam3=int(input(\"Ingrese la calificacion del tercero examen \"))\n",
        "exam4=int(input(\"Ingrese la calificacion del cuarto examen \"))\n",
        "exam5=int(input(\"Ingrese la calificacion del quinto examen \"))\n",
        "examinferior= [exam1,exam2,exam3,exam4,exam5]\n",
        "exammenor= min(examinferior)\n",
        "prom=((exam1 + exam2 + exam3 + exam4 + exam5) - exammenor) / 4\n",
        "print (f\"El promedio final es de {prom}\")\n"
      ],
      "metadata": {
        "colab": {
          "base_uri": "https://localhost:8080/"
        },
        "id": "cHaGLahM5W1X",
        "outputId": "27c88a4b-cf38-44d7-b07e-58c5c3c2445a"
      },
      "execution_count": null,
      "outputs": [
        {
          "output_type": "stream",
          "name": "stdout",
          "text": [
            "Ingrese la calificacion del primer examen 70\n",
            "Ingrese la calificacion del segundo examen 90\n",
            "Ingrese la calificacion del tercero examen 80\n",
            "Ingrese la calificacion del cuarto examen 60\n",
            "Ingrese la calificacion del quinto examen 67\n",
            "El promedio final es de 76.75\n"
          ]
        }
      ]
    },
    {
      "cell_type": "markdown",
      "source": [
        "6.- Algoritmo que sirva para el juego del CHINCHAMPU (Piedra, Papel, Tijera) para 1 jugador y la computadora, (usar condición anidada)"
      ],
      "metadata": {
        "id": "BZOV8jUF_Ar8"
      }
    },
    {
      "cell_type": "code",
      "source": [
        "import random\n",
        "pl1=int(input(\"Seleccione: \\n1-Piedra \\n2-Papel \\n3-Tijera \"))\n",
        "cpu=random.randint(1,3)\n",
        "print (f\"Eleccion de la computadora {cpu}\")\n",
        "if pl1 == 1 :\n",
        "  if cpu == 1 :\n",
        "    print (\"Empate\")\n",
        "  else :\n",
        "    if cpu == 2:\n",
        "      print (\"Gana la computadora\")\n",
        "    else :\n",
        "      print (\"Gana el jugador 1\")\n",
        "elif pl1 == 2 :\n",
        "  if cpu == 1 :\n",
        "    print (\"Gana el jugador 1\")\n",
        "  else :\n",
        "    if cpu == 2 :\n",
        "      print (\"Empate\")\n",
        "    else :\n",
        "      print (\"Gana la computadora\")\n",
        "elif pl1 == 3 :\n",
        "  if cpu == 1 :\n",
        "    print (\"Gana la computadora\")\n",
        "  else :\n",
        "    if cpu == 2 :\n",
        "      print (\"Gana el jugador 1\")\n",
        "    else :\n",
        "      print (\"Empate\")\n",
        "else :\n",
        "  print (\"Error, ingrese un numero del 1 al 3\")\n",
        "\n"
      ],
      "metadata": {
        "colab": {
          "base_uri": "https://localhost:8080/"
        },
        "id": "o6MsZ01q_G7C",
        "outputId": "540baaa5-80a1-4728-94e1-09c39d6d5e16"
      },
      "execution_count": null,
      "outputs": [
        {
          "output_type": "stream",
          "name": "stdout",
          "text": [
            "Seleccione 1-Piedra, 2-Papel, 3-Tijera 1\n",
            "Eleccion de la computadora 3\n",
            "Gana el jugador 1\n"
          ]
        }
      ]
    },
    {
      "cell_type": "markdown",
      "source": [
        "7.- Algoritmo que sirva para el juego del CHINCHAMPU (Piedra, Papel, Tijera) para 1 jugador y la computadora, (usar selección múltiple)"
      ],
      "metadata": {
        "id": "jRcBOrZPEzbc"
      }
    },
    {
      "cell_type": "code",
      "source": [
        "import random\n",
        "pl1=int(input(\"Seleccione: \\n1-Piedra \\n2-Papel \\n3-Tijera \"))\n",
        "cpu=random.randint(1,3)\n",
        "print (f\"Eleccion de la computadora {cpu}\")\n",
        "if pl1 == 1 :\n",
        "  if cpu == 1 :\n",
        "    print (\"Empate\")\n",
        "  elif cpu == 2 :\n",
        "    print (\"Gana la computadora\")\n",
        "  else :\n",
        "    print (\"Gana el jugador 1\")\n",
        "elif pl1 == 2 :\n",
        "  if cpu == 1 :\n",
        "    print (\"Gana el jugador 1\")\n",
        "  elif cpu == 2 :\n",
        "    print (\"Empate\")\n",
        "  else :\n",
        "    print (\"Gana la computadora\")\n",
        "elif pl1 == 3 :\n",
        "  if cpu == 1 :\n",
        "    print (\"Gana la computadora\")\n",
        "  elif cpu == 2 :\n",
        "    print (\"Gana el jugador 1\")\n",
        "  else :\n",
        "    print (\"Empate\")\n",
        "else :\n",
        "  print (\"Error, ingrese un numero del 1 al 3\")"
      ],
      "metadata": {
        "colab": {
          "base_uri": "https://localhost:8080/"
        },
        "id": "BwfJh7IKE4qO",
        "outputId": "85bddb9f-6bb0-49f7-be93-6697239cf562"
      },
      "execution_count": null,
      "outputs": [
        {
          "output_type": "stream",
          "name": "stdout",
          "text": [
            "Seleccione 1-Piedra, 2-Papel, 3-Tijera 2\n",
            "Eleccion de la computadora 2\n",
            "Empate\n"
          ]
        }
      ]
    },
    {
      "cell_type": "markdown",
      "source": [
        "8.- Una tienda de electrónica ofrece descuentos a sus clientes, dependiendo del tipo de producto que compren. Si el cliente compra una computadora, tiene un descuento del 5% en el precio de la computadora y un 10% de descuento en una impresora si la compra junto con la computadora. Si el cliente compra una televisión, tiene un descuento del 7% en el precio de la televisión y un 15% de descuento en una barra de sonido si la compra junto con la televisión. Si el cliente compra una consola de videojuegos, tiene un descuento del 10% en el precio de la consola y un 20% de descuento en un juego si lo compra junto con la consola. Escribe un programa que calcule el precio a pagar por un cliente, tomando en cuenta los descuentos correspondientes."
      ],
      "metadata": {
        "id": "6RMdm3GZE5rY"
      }
    },
    {
      "cell_type": "code",
      "source": [
        "art1=int(input(\"Que desea comprar, seleccione: \\n1- computadora \\n2- television \\n3- consola de videojuegos \"))\n",
        "if art1 == 1 :\n",
        "  art2=int(input(\"Desea agregar una impresora, seleccione : 1-Si, 2-No \"))\n",
        "  if art2 == 1 :\n",
        "    precio1=float(input(\"Cuanto cuesta la computadora \\n\"))\n",
        "    precio2=float(input(\"Cuanto cuesta la impresora \\n\"))\n",
        "    totalart1= precio1 - (precio1 * .05)\n",
        "    totalart2= precio2 - (precio2 * .1)\n",
        "    print (f\"La computadora tiene un descuento del 5%, por lo tanto le saldra en: {totalart1}\")\n",
        "    print (f\"La impresora tiene un 10% de descuento por comprarla junto con la computadora, por lo que le saldra en: {totalart2}\")\n",
        "    print (f\"Su total a pagar sera de: {totalart1 + totalart2}\")\n",
        "  else :\n",
        "    precio1=float(input(\"Cuanto cuesta la computadora \\n\"))\n",
        "    totalart1= precio1 - (precio1 * .05)\n",
        "    print (f\"La computadora tiene un descuento del 5%, por lo tanto le saldra en: {totalart1}\")\n",
        "elif art1 == 2 :\n",
        "  art2=int(input(\"Desea agregar una barra de sonido, seleccione : 1-Si, 2-No \"))\n",
        "  if art2 == 1 :\n",
        "    precio1=float(input(\"Cuanto cuesta la television \\n\"))\n",
        "    precio2=float(input(\"Cuanto cuesta la barra de sonido \\n\"))\n",
        "    totalart1= precio1 - (precio1 * .07)\n",
        "    totalart2= precio2 - (precio2 * .15)\n",
        "    print (f\"La television tiene un descuento del 7%, por lo tanto le saldra en: {totalart1}\")\n",
        "    print (f\"La barra de sonido tiene un 15% de descuento por comprarla junto con la television, por lo que le saldra en: {totalart2}\")\n",
        "    print (f\"Su total a pagar sera de: {totalart1 + totalart2}\")\n",
        "  else :\n",
        "    precio1=float(input(\"Cuanto cuesta la television \\n\"))\n",
        "    totalart1= precio1 - (precio1 * .07)\n",
        "    print (f\"La television tiene un descuento del 7%, por lo tanto le saldra en: {totalart1}\")\n",
        "elif art1 == 3 :\n",
        "  art2=int(input(\"Desea agregar un juego, seleccione : 1-Si, 2-No \"))\n",
        "  if art2 == 1 :\n",
        "    precio1=float(input(\"Cuanto cuesta la consola de videojuegos \\n\"))\n",
        "    precio2=float(input(\"Cuanto cuesta el juego \\n\"))\n",
        "    totalart1= precio1 - (precio1 * .10)\n",
        "    totalart2= precio2 - (precio2 * .20)\n",
        "    print (f\"La consola tiene un descuento del 10%, por lo tanto le saldra en: {totalart1}\")\n",
        "    print (f\"El juego tiene un 20% de descuento por comprarlo junto con la consola, por lo que le saldra en: {totalart2}\")\n",
        "    print (f\"Su total a pagar sera de: {totalart1 + totalart2}\")\n",
        "  else :\n",
        "    precio1=float(input(\"Cuanto cuesta la consola de videojuegos \\n\"))\n",
        "    totalart1= precio1 - (precio1 * .10)\n",
        "    print (f\"La consola de videojuegos tiene un descuento del 10%, por lo tanto le saldra en: {totalart1}\")\n",
        "else :\n",
        "  print (\"Error\")"
      ],
      "metadata": {
        "colab": {
          "base_uri": "https://localhost:8080/"
        },
        "id": "Rg4oA6SLFI-O",
        "outputId": "a21888c0-6f50-4b0d-e49f-a2ad00f9ce89"
      },
      "execution_count": null,
      "outputs": [
        {
          "output_type": "stream",
          "name": "stdout",
          "text": [
            "Que desea comprar, seleccione: 1- computadora, 2- television, 3- consola de videojuegos 2\n",
            "Desea agregar una barra de sonido, seleccione : 1-Si, 2-No 1\n",
            "Cuanto cuesta la television 1000\n",
            "Cuanto cuesta la barra de sonido 500\n",
            "La television tiene un descuento del 7%, por lo tanto le saldra en: 930.0\n",
            "La barra de sonido tiene un 15% de descuento por comprarla junto con la television, por lo que le saldra en: 425.0\n",
            "Su total a pagar sera de: 1355.0\n"
          ]
        }
      ]
    },
    {
      "cell_type": "markdown",
      "source": [
        "9.- En una tienda de ropa, los precios de los productos cambian dependiendo de la temporada. Durante la temporada de verano, todos los productos tienen un descuento del 20%. Durante la temporada de invierno, los productos con etiqueta roja tienen un descuento del 30% y los productos con etiqueta verde tienen un descuento del 15%. Durante la temporada de primavera y otoño, los productos con etiqueta amarilla tienen un descuento del 10%. Escribe un programa que calcule el precio a pagar por un cliente, tomando en cuenta los descuentos correspondientes.\n",
        "\n",
        "\n"
      ],
      "metadata": {
        "id": "LmxKr0EiVLxs"
      }
    },
    {
      "cell_type": "code",
      "source": [
        "temp=int(input(\"Seleccione en que temporada esta comprando: \\n1- Verano \\n2- Invierno \\n3- Primavera y Otoño \\n\"))\n",
        "cobro=int(input(\"Cuanto gasto? \"))\n",
        "if temp == 1 :\n",
        "  arts=float(input(\"Cual es el total de los articulos?\\n\"))\n",
        "  total = arts - (arts * .20)\n",
        "  print (f\"Por ser verano los articulos tienen un 20% de descuento por lo que su total sera de: {total}\")\n",
        "\n",
        "elif temp == 2:\n",
        "    print(\"Presiona \\n1 - SI\\n2 - NO\")\n",
        "    tipo = int(input(\"Elegiste tus articulos con etiqueta roja? \"))\n",
        "    if tipo == 1:\n",
        "        total = cobro - (cobro * 0.30)\n",
        "        print (f\"Por ser invierno los articulos de etiqueta roja tienen un 15% de descuento por lo que su total sera de: {total}\")\n",
        "    else:\n",
        "        print(\"Presiona \\n1 - SI\\n2 - NO\")\n",
        "        tipo = int(input(\"Elegiste tus articulos con etiqueta verde? \"))\n",
        "        if tipo == 1:\n",
        "            total = cobro - (cobro * 0.15)\n",
        "            print (f\"Por ser invierno los articulos de etiqueta verde tienen un 15% de descuento por lo que su total sera de: {total}\")\n",
        "        else:\n",
        "            print(f\"Pagaras un total de {cobro}\")\n",
        "elif temp == 3:\n",
        "    print(\"Presiona \\n1 - SI\\n2 - NO\")\n",
        "    tipo = int(input(\"Elegiste tus articulos con etiqueta amarilla? \"))\n",
        "    if tipo == 1:\n",
        "        total = cobro - (cobro * 0.10 )\n",
        "        print (f\"Por ser primavera/otoño los articulos de etiqueta amarilla tienen un 10% de descuento por lo que su total sera de: {total}\")\n",
        "    else:\n",
        "        print(f\"Pagaras un total de {cobro}\")\n",
        "else :\n",
        "  print (\"Error\")"
      ],
      "metadata": {
        "id": "qSZHUgX6VPZQ",
        "colab": {
          "base_uri": "https://localhost:8080/"
        },
        "outputId": "23f4838c-f743-462a-ad40-f6fb31c2f6e5"
      },
      "execution_count": null,
      "outputs": [
        {
          "output_type": "stream",
          "name": "stdout",
          "text": [
            "Seleccione en que temporada esta comprando: \n",
            "1- Verano \n",
            "2- Invierno \n",
            "3- Primavera y Otoño \n",
            "2\n",
            "Cuanto gasto? 1000\n",
            "Presiona \n",
            "1 - SI\n",
            "2 - NO\n",
            "Elegiste tus articulos con etiqueta roja? 2\n",
            "Presiona \n",
            "1 - SI\n",
            "2 - NO\n",
            "Elegiste tus articulos con etiqueta verde? 1\n",
            "Por ser invierno los articulos de etiqueta verde tienen un 15% de descuento por lo que su total sera de: 850.0\n"
          ]
        }
      ]
    },
    {
      "cell_type": "markdown",
      "source": [
        "10.- Un restaurante ofrece descuentos a sus clientes, dependiendo del día de la semana y del tipo de menú que pidan. Los lunes, los clientes que pidan el menú del día tienen un descuento del 10%. Los martes, los clientes que pidan el menú infantil tienen un descuento del 20%. Los miércoles, los clientes que pidan el menú vegetariano tienen un descuento del 15%. Los jueves, los clientes que pidan el menú del chef tienen un descuento del 5%. Los viernes, los clientes que pidan el menú del día tienen un descuento del 5%. Los sábados y domingos no hay descuentos. Escribe un programa que calcule el precio a pagar por un cliente, tomando en cuenta los descuentos correspondientes."
      ],
      "metadata": {
        "id": "4C7YXv7rhp25"
      }
    },
    {
      "cell_type": "code",
      "source": [
        "dia=int(input(\"Que dia de la semana es: \\n1-Lunes \\n2-Martes \\n3-Miercoles \\n4-Jueves \\n5-Viernes \\n6-Sabado \\n7-Domingo \\n\"))\n",
        "if dia == 1:\n",
        "  menu=int(input(\"Desea ordenar el menu del dia cuenta, con un 10% de descuento: \\n1-Si \\n2-No \\n\"))\n",
        "  if menu == 1 :\n",
        "    gasto=float(input(\"De cuanto fue su consumo? \"))\n",
        "    print (f\"Su total a pagar sera de: {gasto - (gasto * .10)}\")\n",
        "  else :\n",
        "    gasto=float(input(\"De cuanto fue su consumo? \"))\n",
        "    print (f\"Su total a pagar sera de: {gasto}\")\n",
        "elif dia == 2:\n",
        "  menu=int(input(\"Desea ordenar el menu infantil, cuenta con un 20% de descuento: \\n1-Si \\n2-No \\n\"))\n",
        "  if menu == 1 :\n",
        "    gasto=float(input(\"De cuanto fue su consumo? \"))\n",
        "    print(f\"Su total a pagar sera de: {gasto - (gasto * .20)}\")\n",
        "  else :\n",
        "    gasto=float(input(\"De cuanto fue su consumo? \"))\n",
        "    print(f\"Su total a pagar sera de: {gasto}\")\n",
        "elif dia == 3:\n",
        "  menu=int(input(\"Desea ordenar el menu vegetariano, cuenta con un 15% de descuento: \\n1-Si \\n2-No \\n\"))\n",
        "  if menu == 1 :\n",
        "    gasto=float(input(\"De cuanto fue su consumo? \"))\n",
        "    print (f\"Su total a pagar sera de: {gasto - (gasto * .15)}\")\n",
        "  else :\n",
        "    gasto=float(input(\"De cuanto fue su consumo? \"))\n",
        "    print (f\"Su total a pagar sera de: {gasto}\")\n",
        "elif dia == 4:\n",
        "  menu=int(input(\"Desea ordenar el menu del chef, cuenta con un 5% de descuento: \\n1-Si \\n2-No \\n\"))\n",
        "  if menu == 1 :\n",
        "    gasto=float(input(\"De cuanto fue su consumo? \"))\n",
        "    print (f\"Su total a pagar sera de: {gasto - (gasto * .05)}\")\n",
        "  else :\n",
        "    gasto=float(input(\"De cuanto fue su consumo? \"))\n",
        "    print (f\"Su total a pagar sera de: {gasto}\")\n",
        "elif dia == 5:\n",
        "  menu=int(input(\"Desea ordenar el menu del dia cuenta, con un 5% de descuento: \\n1-Si \\n2-No \\n\"))\n",
        "  if menu == 1 :\n",
        "    gasto=float(input(\"De cuanto fue su consumo? \"))\n",
        "    print (f\"Su total a pagar sera de: {gasto - (gasto * .05)}\")\n",
        "  else :\n",
        "    gasto=float(input(\"De cuanto fue su consumo? \"))\n",
        "    print (f\"Su total a pagar sera de: {gasto}\")\n",
        "elif dia == 6 or dia == 7 :\n",
        "  gasto=float(input(\"De cuanto fue su consumo? \"))\n",
        "  print (f\"Su total a pagar sera de: {gasto}\")\n",
        "else :\n",
        "  print (\"Mmm, algo anda mal \")\n"
      ],
      "metadata": {
        "colab": {
          "base_uri": "https://localhost:8080/"
        },
        "id": "3wj1NwlWhqlI",
        "outputId": "8243f13c-4225-4ccf-afbd-acdb8b7a9f9f"
      },
      "execution_count": null,
      "outputs": [
        {
          "output_type": "stream",
          "name": "stdout",
          "text": [
            "Que dia de la semana es: \n",
            "1-Lunes \n",
            "2-Martes \n",
            "3-Miercoles \n",
            "4-Jueves \n",
            "5-Viernes \n",
            "6-Sabado \n",
            "7-Domingo \n",
            "3\n",
            "Desea ordenar el menu vegetariano, cuenta con un 15% de descuento: \n",
            "1-Si \n",
            "2-No \n",
            "1\n",
            "De cuanto fue su consumo? 1000\n",
            "Su total a pagar sera de: 850.0\n"
          ]
        }
      ]
    }
  ]
}